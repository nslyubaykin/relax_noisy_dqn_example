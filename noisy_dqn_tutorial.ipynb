{
 "cells": [
  {
   "cell_type": "markdown",
   "id": "cfbf11bb",
   "metadata": {},
   "source": [
    "# Noisy DQN\n",
    "\n",
    "For ReLAx & Mujoco installation see: https://github.com/nslyubaykin/relax/blob/master/README.md\n",
    "\n",
    "Useful readings regarding Noisy DQN:\n",
    "\n",
    "- DQN paper: https://arxiv.org/pdf/1312.5602.pdf\n",
    "- Noisy DQN paper: https://arxiv.org/pdf/1706.10295.pdf\n",
    "\n",
    "!Note: For examining trained actor you may just load trained policies from \\trained_models directory. To do that instead of running 'Run Training and Validation loop' cell, just run 'Load Models' cell\n",
    "\n",
    "!Note: Trained policies, logs and videos are in the main repository of that notebook: https://github.com/nslyubaykin/relax_noisy_dqn_example"
   ]
  },
  {
   "cell_type": "code",
   "execution_count": 1,
   "id": "f78331dc",
   "metadata": {},
   "outputs": [
    {
     "name": "stderr",
     "output_type": "stream",
     "text": [
      "/home/nikita/.local/lib/python3.6/site-packages/tqdm/auto.py:22: TqdmWarning: IProgress not found. Please update jupyter and ipywidgets. See https://ipywidgets.readthedocs.io/en/stable/user_install.html\n",
      "  from .autonotebook import tqdm as notebook_tqdm\n"
     ]
    }
   ],
   "source": [
    "import gym\n",
    "import torch\n",
    "import numpy as np\n",
    "import matplotlib.pyplot as plt\n",
    "\n",
    "from tqdm import tqdm\n",
    "from inspect import getsource\n",
    "from torch.utils.tensorboard import SummaryWriter\n",
    "\n",
    "from relax.rl.critics import DQN\n",
    "from relax.rl.actors import ArgmaxQValue\n",
    "\n",
    "from relax.zoo.critics import AtariNoisyQCNN\n",
    "\n",
    "from relax.schedules import PiecewiseSchedule\n",
    "\n",
    "from relax.gym.utils import get_wrapper_by_name, visualize_actor\n",
    "from relax.gym.wrappers.atari import *\n",
    "\n",
    "from relax.data.sampling import Sampler\n",
    "from relax.data.replay_buffer import ReplayBuffer"
   ]
  },
  {
   "cell_type": "markdown",
   "id": "ff9bf66c",
   "metadata": {},
   "source": [
    "# Constructing Discrete Deep Q-Network Critic\n",
    "\n",
    "DQN is a discrete action RL algorithm. That means that critic net is taking as an input an observations batch with a shape of (BATCH_SIZE, \\*obs.shape) (for Atari domain observation is a batch of stacked frames which then processed by CNN feature extractor) and outputting a batch of Q-Values for each discrete action with a shape (BATCH_SIZE, ACS_DIM).\n",
    "\n",
    "# Noisy Layers\n",
    "\n",
    "NoisyNets are neural networks whose weights and biases are perturbed by a parametric function of the noise. These parameters are adapted with gradient descent. To implement NoisyNets use `relax.zoo.layers.NoisyLinear` instead of `torch.nn.Linear`.\n",
    "\n",
    "Therefore any custom user defined networks meeting this requirements should work well with DQN critic\n",
    "\n",
    "So let's examine the default implementation of Noisy Atari Discrete Deep Q-Network Critic offered by ReLAx:"
   ]
  },
  {
   "cell_type": "code",
   "execution_count": 2,
   "id": "894e1f13",
   "metadata": {},
   "outputs": [
    {
     "name": "stdout",
     "output_type": "stream",
     "text": [
      "class AtariNoisyQCNN(nn.Module):\n",
      "    \n",
      "    def __init__(self, in_channels, acs_dim, std_init=0.5):\n",
      "        \n",
      "        super(AtariNoisyQCNN, self).__init__()\n",
      "        \n",
      "        self.net = nn.Sequential(\n",
      "            PreprocessImg(),\n",
      "            nn.Conv2d(in_channels=in_channels, out_channels=32, kernel_size=8, stride=4),\n",
      "            nn.ReLU(),\n",
      "            nn.Conv2d(in_channels=32, out_channels=64, kernel_size=4, stride=2),\n",
      "            nn.ReLU(),\n",
      "            nn.Conv2d(in_channels=64, out_channels=64, kernel_size=3, stride=1),\n",
      "            nn.ReLU(),\n",
      "            nn.Flatten(),\n",
      "            NoisyLinear(3136, 512, std_init=std_init),  # 3136 hard-coded based on img size + CNN layers\n",
      "            nn.ReLU(),\n",
      "            NoisyLinear(512, acs_dim, std_init=std_init),\n",
      "        )\n",
      "        \n",
      "    def forward(self, x):\n",
      "        \n",
      "        logits = self.net(x)\n",
      "        \n",
      "        return logits\n",
      "\n"
     ]
    }
   ],
   "source": [
    "print(getsource(AtariNoisyQCNN))"
   ]
  },
  {
   "cell_type": "markdown",
   "id": "3baffda0",
   "metadata": {},
   "source": [
    "# Constructing ArgmaxQValue actor\n",
    "\n",
    "DQN uses a greedy non-parametric actor which simply selects an action with the biggest Q-value estimated by DQN critc"
   ]
  },
  {
   "cell_type": "markdown",
   "id": "a1107160",
   "metadata": {},
   "source": [
    "# Define Schedules for Training:\n",
    "\n",
    "Our DQN actor will not learn for the first 50k iterations. (Told to actor by passing 0 learning rate for the first 50k iterations)\n",
    "\n",
    "And it will also conduct maximum exploration during that phase to collect initial random training data.\n",
    "\n",
    "*!Note: we will construct our exploration schedule to be 30m timestamps long, however, for the time-saving purpose, we will run demonstration training only for 3m steps. In papers, DQN and its augmentations are trained for 200m steps, which may require several days of learning.*"
   ]
  },
  {
   "cell_type": "code",
   "execution_count": 3,
   "id": "c52a375f",
   "metadata": {},
   "outputs": [
    {
     "data": {
      "image/png": "[encoded data removed]",
      "text/plain": [
       "<Figure size 432x288 with 1 Axes>"
      ]
     },
     "metadata": {
      "needs_background": "light"
     },
     "output_type": "display_data"
    }
   ],
   "source": [
    "lr_schedule = PiecewiseSchedule({0: 50000}, 1e-4)\n",
    "lr_schedule.plot(int(1e6))"
   ]
  },
  {
   "cell_type": "markdown",
   "id": "1301e0fa",
   "metadata": {},
   "source": [
    "# Create training and eval environments"
   ]
  },
  {
   "cell_type": "markdown",
   "id": "e50bf275",
   "metadata": {},
   "source": [
    "On practice, when training DQN on Atari 2600 domain, algorithm is not fed with raw environment observations, instead several wrappers are applied:\n",
    "\n",
    "1) EpisodicLifeEnv - make end-of-life == end-of-episode, but only reset on true game over. Done by DeepMind for the DQN and co. since it helps value estimation\n",
    "\n",
    "2) NoopResetEnv - Sample initial states by taking random number of no-ops on reset. No-op is assumed to be action 0.\n",
    "\n",
    "3) MaxAndSkipEnv - Return only every skip-th frame and do max-pooling over most recent two observations\n",
    "\n",
    "4) FireResetEnv - Take action on reset for environments that are fixed until firing.\n",
    "\n",
    "5) ProcessFrame84 - Crop valid region of an observation, convert to grayscale, resize to 84x84. Cast to uint8 dtype for lower memory usage.\n",
    "\n",
    "6) ClipRewardEnv - Bin reward to {+1, 0, -1} by its sign."
   ]
  },
  {
   "cell_type": "code",
   "execution_count": 4,
   "id": "ff483d93",
   "metadata": {},
   "outputs": [],
   "source": [
    "def makeenv(env_name, hcrop, hstretch, seed):\n",
    "    \n",
    "    env = gym.make(env_name)\n",
    "    ob_unwrap = env.reset()\n",
    "    \n",
    "    env = gym.wrappers.Monitor(\n",
    "        env,\n",
    "        'monitor_train_logs',\n",
    "        force=True,\n",
    "        video_callable=None,\n",
    "    )\n",
    "    \n",
    "    env = wrap_deepmind(\n",
    "        env, \n",
    "        skip=4,\n",
    "        hcrop=hcrop, \n",
    "        hstretch=hstretch\n",
    "    )\n",
    "    \n",
    "    env.seed(seed)\n",
    "    \n",
    "    ob = env.reset()\n",
    "    \n",
    "    return env, ob_unwrap, ob "
   ]
  },
  {
   "cell_type": "code",
   "execution_count": 5,
   "id": "80977322",
   "metadata": {},
   "outputs": [
    {
     "name": "stdout",
     "output_type": "stream",
     "text": [
      "(210, 160, 3) (84, 84, 1)\n"
     ]
    }
   ],
   "source": [
    "env_name = 'Asteroids-v0'\n",
    "\n",
    "# Capture game region by adjusting these params:\n",
    "hcrop=18 # skip n top lines of pixels\n",
    "hstretch=110 # compression of vertical dimention from 210 -> hstretch (should be > than hcrop+84)\n",
    "\n",
    "env, ob_unwrap, ob = makeenv(\n",
    "    env_name=env_name, hcrop=hcrop, \n",
    "    hstretch=hstretch, seed=12\n",
    ")\n",
    "\n",
    "eval_env, _, _ = makeenv(\n",
    "    env_name=env_name, hcrop=hcrop, \n",
    "    hstretch=hstretch, seed=27\n",
    ")\n",
    "\n",
    "\n",
    "print(ob_unwrap.shape, ob.shape)"
   ]
  },
  {
   "cell_type": "code",
   "execution_count": 6,
   "id": "507de0bd",
   "metadata": {},
   "outputs": [
    {
     "data": {
      "image/png": "[encoded data removed]",
      "text/plain": [
       "<Figure size 432x288 with 2 Axes>"
      ]
     },
     "metadata": {
      "needs_background": "light"
     },
     "output_type": "display_data"
    }
   ],
   "source": [
    "# Visualize raw and wrapped environment:\n",
    "plt.subplot(1, 2, 1)\n",
    "plt.imshow(ob_unwrap)\n",
    "plt.title('Raw env')\n",
    "plt.subplot(1, 2, 2)\n",
    "plt.imshow(ob.squeeze(), cmap='gray')\n",
    "plt.title('Wrapped env')\n",
    "plt.show()"
   ]
  },
  {
   "cell_type": "code",
   "execution_count": 7,
   "id": "378d0f15",
   "metadata": {},
   "outputs": [
    {
     "data": {
      "text/plain": [
       "Discrete(14)"
      ]
     },
     "execution_count": 7,
     "metadata": {},
     "output_type": "execute_result"
    }
   ],
   "source": [
    "env.action_space"
   ]
  },
  {
   "cell_type": "code",
   "execution_count": 8,
   "id": "6dc2b8a1",
   "metadata": {},
   "outputs": [],
   "source": [
    "acs_dim = 14"
   ]
  },
  {
   "cell_type": "markdown",
   "id": "41fb8949",
   "metadata": {},
   "source": [
    "#  Set Up Exploration\n",
    "\n",
    "As DQN critic network's weights and biases are perturbed by a parametric function of the noise, which is learned during gradient descent, there is no  need for an additional $\\epsilon$-greedy exploration. Exploration magnitude will be learned by the model itself."
   ]
  },
  {
   "cell_type": "markdown",
   "id": "8519087e",
   "metadata": {},
   "source": [
    "# Define ArgmaxQValue actor"
   ]
  },
  {
   "cell_type": "code",
   "execution_count": 9,
   "id": "d2318887",
   "metadata": {},
   "outputs": [],
   "source": [
    "actor = ArgmaxQValue(\n",
    "        exploration=None\n",
    ")"
   ]
  },
  {
   "cell_type": "markdown",
   "id": "a3eb21f0",
   "metadata": {},
   "source": [
    "# Define DQN critic:\n",
    "\n",
    "!Note: Atari 2600 environments often have some blinking visual elements, that is why observation may miss some details due to the blinking period, therefore introducing *partial observability*. To counteract this, critic network receives a stack of a current frame and 3 most recent lags. By doing so, critic, in theory, should be able to reconstruct actual state from frames history.\n",
    "\n",
    "ReLAx offers a simple interface to use lagged observations by specifying the following args:\n",
    "\n",
    "`obs_nlags`: int - specify the number of lags in addition to current observation\n",
    "\n",
    "`obs_expand_axis`: int or None - if not None, creates an extra dimension in observation array to concat along, if needed\n",
    "\n",
    "`obs_concat_axis`: int - axis to concatenate lags along\n",
    "\n",
    "`obs_padding`: str - ('zeros', 'first') value to pad starting observations with.\n",
    "\n",
    "Observation shape of the observations returned by DeepMind environment wrapper is (84, 84, 1) so, by specifying:\n",
    "\n",
    "`obs_nlags`=3\n",
    "\n",
    "`obs_expand_axis`=None\n",
    "\n",
    "`obs_concat_axis`=-1\n",
    "\n",
    "`obs_padding=`'zeros'\n",
    "\n",
    "We end up with a stacked lagged observation with a shape (84, 84, 4)"
   ]
  },
  {
   "cell_type": "code",
   "execution_count": 10,
   "id": "5f9ed791",
   "metadata": {},
   "outputs": [],
   "source": [
    "critic = DQN(\n",
    "    critic_net=AtariNoisyQCNN( # Noisy DQN\n",
    "        in_channels=4, # 1 current frame + 3 recent lags\n",
    "        acs_dim=acs_dim\n",
    "    ),\n",
    "    device=torch.device('cuda'),\n",
    "    learning_rate=lr_schedule,\n",
    "    batch_size=32,\n",
    "    gamma=0.99,\n",
    "    target_updates_freq=10000,\n",
    "    n_steps_per_update=1,\n",
    "    update_freq=4,\n",
    "    double_q=False,\n",
    "    obs_nlags=3,\n",
    "    obs_expand_axis=None,\n",
    "    obs_concat_axis=-1,\n",
    "    obs_padding='zeros'\n",
    ")"
   ]
  },
  {
   "cell_type": "markdown",
   "id": "9896a2ef",
   "metadata": {},
   "source": [
    "# Provide actor with critic:"
   ]
  },
  {
   "cell_type": "code",
   "execution_count": 11,
   "id": "28fabc7c",
   "metadata": {},
   "outputs": [],
   "source": [
    "actor.set_critic(critic)"
   ]
  },
  {
   "cell_type": "markdown",
   "id": "0073e359",
   "metadata": {},
   "source": [
    "# Wrap envs into Sampler:\n",
    "\n",
    "!Note: As we are using lags as an input to critic (and actor is using critic to select actions), our sampler also should accumulate lags to ensure correct input on a sampling phase. To make Sampler use lags, you should provide it with the same set of args:\n",
    "\n",
    "`obs_nlags`: int - specify the number of lags in addition to current observation\n",
    "\n",
    "`obs_expand_axis`: int or None - if not None, creates an extra dimension in observation array to concat along, if needed\n",
    "\n",
    "`obs_concat_axis`: int - axis to concatenate lags along\n",
    "\n",
    "`obs_padding`: str - ('zeros', 'first') value to pad starting observations with."
   ]
  },
  {
   "cell_type": "code",
   "execution_count": 12,
   "id": "4ca4c36f",
   "metadata": {},
   "outputs": [],
   "source": [
    "sampler = Sampler(env=env,\n",
    "                  obs_nlags=3,\n",
    "                  obs_expand_axis=None,\n",
    "                  obs_concat_axis=-1,\n",
    "                  obs_padding='zeros')\n",
    "\n",
    "eval_sampler = Sampler(env=eval_env,\n",
    "                       obs_nlags=3,\n",
    "                       obs_expand_axis=None,\n",
    "                       obs_concat_axis=-1,\n",
    "                       obs_padding='zeros')"
   ]
  },
  {
   "cell_type": "markdown",
   "id": "d1628bb9",
   "metadata": {},
   "source": [
    "# Create replay buffer\n",
    "\n",
    "!Note: ReplayBuffer is designed not to store lags explicitly (and not to store next states also) that is why the number of lags will not affect the amount of RAM used. However, as it still has to store 1m experience history and each observation is an array of shape (84, 84, 1) with a dtype uint8, the total amount of RAM usage by ReplayBuffer $ \\approx $ 10^6 \\* 84 \\* 84 bytes ~= 7 gigabytes. In total, DQN training requires $ \\approx $ 9-10 gigabytes of RAM. If your machine does not have enough RAM - consider decreasing buffer size."
   ]
  },
  {
   "cell_type": "code",
   "execution_count": 13,
   "id": "38793b37",
   "metadata": {},
   "outputs": [],
   "source": [
    "replay_buffer = ReplayBuffer(int(1e+6))"
   ]
  },
  {
   "cell_type": "markdown",
   "id": "5a363bcb",
   "metadata": {},
   "source": [
    "# Visualize untrained actor"
   ]
  },
  {
   "cell_type": "code",
   "execution_count": 14,
   "id": "1ba08d72",
   "metadata": {},
   "outputs": [
    {
     "name": "stdout",
     "output_type": "stream",
     "text": [
      "Simulation done, total reward: 1.0\n",
      "Loading video...\n"
     ]
    },
    {
     "data": {
      "text/html": [
       "<video alt=\"test\" autoplay \n",
       "                    loop controls style=\"height: 400px;\">\n",
       "                    <source src=\"data:video/mp4;base64,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\" type=\"video/mp4\" />\n",
       "                 </video>"
      ],
      "text/plain": [
       "<IPython.core.display.HTML object>"
      ]
     },
     "metadata": {},
     "output_type": "display_data"
    }
   ],
   "source": [
    "visualize_actor(env=eval_env, actor=actor, nsteps=1000, train_sampling=False)"
   ]
  },
  {
   "cell_type": "markdown",
   "id": "5521a071",
   "metadata": {},
   "source": [
    "# Run Training and Validation loop:\n",
    "\n",
    "!Note: we have constructed our exploration schedule to be 30m timestamps long, however, for the time-saving purpose, we will run demonstration training only for 3m steps. In papers, DQN and its augmentations are trained for 200m steps, which may require several days of learning."
   ]
  },
  {
   "cell_type": "code",
   "execution_count": null,
   "id": "cf675b2b",
   "metadata": {},
   "outputs": [
    {
     "name": "stderr",
     "output_type": "stream",
     "text": [
      " 67%|██████▋   | 2024216/3000000 [5:05:09<21847:05:34, 80.60s/it] "
     ]
    }
   ],
   "source": [
    "log_every = 50000\n",
    "n_steps = 3000000\n",
    "logdir = '/home/nikita/Desktop/RelaxExamples/Noisy_DQN/tensorboard_logs'\n",
    "run_name = f'noisy_dqn_{env_name}_2'\n",
    "logger = SummaryWriter(log_dir=f'{logdir}/{run_name}')\n",
    "all_logs = []\n",
    "\n",
    "for step in tqdm(range(n_steps)): # \n",
    "    \n",
    "    # sample training batch\n",
    "    unit_pathlist = sampler.sample(actor=actor,\n",
    "                                   n_transitions=1,\n",
    "                                   max_path_length=None, \n",
    "                                   reset_when_not_done=False,\n",
    "                                   train_sampling=True)\n",
    "    \n",
    "    # add transitions to replay buffer\n",
    "    replay_buffer.add_paths(unit_pathlist)\n",
    "    \n",
    "    # update critic\n",
    "    critic_logs = critic.update(replay_buffer)\n",
    "        \n",
    "    # update actor\n",
    "    actor_logs = actor.update(replay_buffer)\n",
    "    \n",
    "    if step % log_every == 0 and step > 0:\n",
    "        \n",
    "        # add unwrapped reward logs\n",
    "        mean_unwr_train = np.mean(get_wrapper_by_name(env, 'Monitor').get_episode_rewards()[-20:])\n",
    "        unwr_rews = {'average_train_unwr_rews': mean_unwr_train}\n",
    "        \n",
    "        # create logs of buffer\n",
    "        buffer_logs = replay_buffer.create_logs(prefix='buffer')\n",
    "\n",
    "        logs = {**critic_logs,\n",
    "                **actor_logs,\n",
    "                **buffer_logs,\n",
    "                **unwr_rews}\n",
    "        all_logs.append(logs)\n",
    "        \n",
    "        for key, value in logs.items():\n",
    "            logger.add_scalar(key, value, step)\n",
    "    \n",
    "logger.flush()"
   ]
  },
  {
   "cell_type": "code",
   "execution_count": 1,
   "id": "d3b0dee7",
   "metadata": {},
   "outputs": [
    {
     "data": {
      "text/plain": [
       "Reusing TensorBoard on port 6006 (pid 48337), started 19:29:08 ago. (Use '!kill 48337' to kill it.)"
      ]
     },
     "metadata": {},
     "output_type": "display_data"
    },
    {
     "data": {
      "text/html": [
       "\n",
       "      <iframe id=\"tensorboard-frame-1694ea3d7697d806\" width=\"100%\" height=\"800\" frameborder=\"0\">\n",
       "      </iframe>\n",
       "      <script>\n",
       "        (function() {\n",
       "          const frame = document.getElementById(\"tensorboard-frame-1694ea3d7697d806\");\n",
       "          const url = new URL(\"/\", window.location);\n",
       "          const port = 6006;\n",
       "          if (port) {\n",
       "            url.port = port;\n",
       "          }\n",
       "          frame.src = url;\n",
       "        })();\n",
       "      </script>\n",
       "    "
      ],
      "text/plain": [
       "<IPython.core.display.HTML object>"
      ]
     },
     "metadata": {},
     "output_type": "display_data"
    }
   ],
   "source": [
    "%load_ext tensorboard\n",
    "%tensorboard --logdir /home/nikita/Desktop/RelaxExamples/Noisy_DQN/tensorboard_logs"
   ]
  },
  {
   "cell_type": "markdown",
   "id": "f9c5ed3c",
   "metadata": {},
   "source": [
    "# Plot learning curve"
   ]
  },
  {
   "cell_type": "code",
   "execution_count": null,
   "id": "d36c25e4",
   "metadata": {},
   "outputs": [],
   "source": [
    "eval_score = [l['average_train_unwr_rews'] for l in all_logs]\n",
    "plt.plot(eval_score)\n",
    "plt.title(f'Learning curve for {env_name}')\n",
    "plt.xlabel('Training step')\n",
    "plt.ylabel('Avg. return')\n",
    "plt.show()"
   ]
  },
  {
   "cell_type": "markdown",
   "id": "d56bd690",
   "metadata": {},
   "source": [
    "# Plot estimated vs actual Q-values"
   ]
  },
  {
   "cell_type": "code",
   "execution_count": null,
   "id": "0117e017",
   "metadata": {},
   "outputs": [],
   "source": [
    "batch = eval_sampler.sample_n_episodes(actor=actor,\n",
    "                                       n_episodes=10,\n",
    "                                       max_path_length=None, \n",
    "                                       train_sampling=False)\n",
    "\n",
    "print(*batch.create_logs().items(), sep='\\n')\n",
    "\n",
    "batch.add_disc_cumsum(cumsum_field='q_vals', field='rews', gamma=0.99)\n",
    "data_q_values = batch.unpack(['q_vals'])\n",
    "\n",
    "model_q_values = critic.estimate_qvalue(batch)\n",
    "\n",
    "plt.hexbin(data_q_values, model_q_values, bins=50, cmap=plt.cm.Blues)\n",
    "plt.title('Data Q-values vs Critic Q-values')\n",
    "plt.xlabel('Data Q-values')\n",
    "plt.ylabel('Critic Q-values')\n",
    "plt.show()"
   ]
  },
  {
   "cell_type": "markdown",
   "id": "1a4ea1b7",
   "metadata": {},
   "source": [
    "# Visualize trained actor"
   ]
  },
  {
   "cell_type": "code",
   "execution_count": null,
   "id": "3cccc38c",
   "metadata": {},
   "outputs": [],
   "source": [
    "visualize_actor(env=eval_env, actor=actor, nsteps=1000, train_sampling=False)"
   ]
  },
  {
   "cell_type": "markdown",
   "id": "e32d683c",
   "metadata": {},
   "source": [
    "# Save Models"
   ]
  },
  {
   "cell_type": "code",
   "execution_count": null,
   "id": "67872fd6",
   "metadata": {
    "scrolled": true
   },
   "outputs": [],
   "source": [
    "actor.save_checkpoint('trained_models', 'argmax_q_value_actor')\n",
    "critic.save_checkpoint('trained_models', 'noisy_dqn_critic')"
   ]
  },
  {
   "cell_type": "markdown",
   "id": "31e0a904",
   "metadata": {},
   "source": [
    "# Load Models"
   ]
  },
  {
   "cell_type": "code",
   "execution_count": null,
   "id": "12804137",
   "metadata": {},
   "outputs": [],
   "source": [
    "actor.load_checkpoint('trained_models', 'argmax_q_value_actor')\n",
    "critic.load_checkpoint('trained_models', 'noisy_dqn_critic')"
   ]
  }
 ],
 "metadata": {
  "kernelspec": {
   "display_name": "Python Relax",
   "language": "python",
   "name": "relax"
  },
  "language_info": {
   "codemirror_mode": {
    "name": "ipython",
    "version": 3
   },
   "file_extension": ".py",
   "mimetype": "text/x-python",
   "name": "python",
   "nbconvert_exporter": "python",
   "pygments_lexer": "ipython3",
   "version": "3.6.13"
  }
 },
 "nbformat": 4,
 "nbformat_minor": 5
}
