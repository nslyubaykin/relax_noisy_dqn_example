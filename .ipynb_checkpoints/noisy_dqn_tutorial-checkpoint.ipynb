{
 "cells": [
  {
   "cell_type": "markdown",
   "id": "cfbf11bb",
   "metadata": {},
   "source": [
    "# Noisy DQN\n",
    "\n",
    "For ReLAx & Mujoco installation see: https://github.com/nslyubaykin/relax/blob/master/README.md\n",
    "\n",
    "Useful readings regarding Noisy DQN:\n",
    "\n",
    "- DQN paper: https://arxiv.org/pdf/1312.5602.pdf\n",
    "- Noisy DQN paper: https://arxiv.org/pdf/1706.10295.pdf\n",
    "\n",
    "!Note: For examining trained actor you may just load trained policies from \\trained_models directory. To do that instead of running 'Run Training and Validation loop' cell, just run 'Load Models' cell\n",
    "\n",
    "!Note: Trained policies, logs and videos are in the main repository of that notebook: https://github.com/nslyubaykin/relax_noisy_dqn_example"
   ]
  },
  {
   "cell_type": "code",
   "execution_count": 1,
   "id": "f78331dc",
   "metadata": {},
   "outputs": [
    {
     "name": "stderr",
     "output_type": "stream",
     "text": [
      "/home/nikita/.local/lib/python3.6/site-packages/tqdm/auto.py:22: TqdmWarning: IProgress not found. Please update jupyter and ipywidgets. See https://ipywidgets.readthedocs.io/en/stable/user_install.html\n",
      "  from .autonotebook import tqdm as notebook_tqdm\n"
     ]
    }
   ],
   "source": [
    "import gym\n",
    "import torch\n",
    "import numpy as np\n",
    "import matplotlib.pyplot as plt\n",
    "\n",
    "from tqdm import tqdm\n",
    "from inspect import getsource\n",
    "from torch.utils.tensorboard import SummaryWriter\n",
    "\n",
    "from relax.rl.critics import DQN\n",
    "from relax.rl.actors import ArgmaxQValue\n",
    "\n",
    "from relax.zoo.critics import AtariNoisyQCNN\n",
    "\n",
    "from relax.schedules import PiecewiseSchedule\n",
    "\n",
    "from relax.gym.utils import get_wrapper_by_name, visualize_actor\n",
    "from relax.gym.wrappers.atari import *\n",
    "\n",
    "from relax.data.sampling import Sampler\n",
    "from relax.data.replay_buffer import ReplayBuffer"
   ]
  },
  {
   "cell_type": "markdown",
   "id": "ff9bf66c",
   "metadata": {},
   "source": [
    "# Constructing Discrete Deep Q-Network Critic\n",
    "\n",
    "DQN is a discrete action RL algorithm. That means that critic net is taking as an input an observations batch with a shape of (BATCH_SIZE, \\*obs.shape) (for Atari domain observation is a batch of stacked frames which then processed by CNN feature extractor) and outputting a batch of Q-Values for each discrete action with a shape (BATCH_SIZE, ACS_DIM).\n",
    "\n",
    "# Noisy Layers\n",
    "\n",
    "NoisyNets are neural networks whose weights and biases are perturbed by a parametric function of the noise. These parameters are adapted with gradient descent. To implement NoisyNets use `relax.zoo.layers.NoisyLinear` instead of `torch.nn.Linear`.\n",
    "\n",
    "Therefore any custom user defined networks meeting this requirements should work well with DQN critic\n",
    "\n",
    "So let's examine the default implementation of Noisy Atari Discrete Deep Q-Network Critic offered by ReLAx:"
   ]
  },
  {
   "cell_type": "code",
   "execution_count": 2,
   "id": "894e1f13",
   "metadata": {},
   "outputs": [
    {
     "name": "stdout",
     "output_type": "stream",
     "text": [
      "class AtariNoisyQCNN(nn.Module):\n",
      "    \n",
      "    def __init__(self, in_channels, acs_dim, std_init=0.5):\n",
      "        \n",
      "        super(AtariNoisyQCNN, self).__init__()\n",
      "        \n",
      "        self.net = nn.Sequential(\n",
      "            PreprocessImg(),\n",
      "            nn.Conv2d(in_channels=in_channels, out_channels=32, kernel_size=8, stride=4),\n",
      "            nn.ReLU(),\n",
      "            nn.Conv2d(in_channels=32, out_channels=64, kernel_size=4, stride=2),\n",
      "            nn.ReLU(),\n",
      "            nn.Conv2d(in_channels=64, out_channels=64, kernel_size=3, stride=1),\n",
      "            nn.ReLU(),\n",
      "            nn.Flatten(),\n",
      "            NoisyLinear(3136, 512, std_init=std_init),  # 3136 hard-coded based on img size + CNN layers\n",
      "            nn.ReLU(),\n",
      "            NoisyLinear(512, acs_dim, std_init=std_init),\n",
      "        )\n",
      "        \n",
      "    def forward(self, x):\n",
      "        \n",
      "        logits = self.net(x)\n",
      "        \n",
      "        return logits\n",
      "\n"
     ]
    }
   ],
   "source": [
    "print(getsource(AtariNoisyQCNN))"
   ]
  },
  {
   "cell_type": "markdown",
   "id": "3baffda0",
   "metadata": {},
   "source": [
    "# Constructing ArgmaxQValue actor\n",
    "\n",
    "DQN uses a greedy non-parametric actor which simply selects an action with the biggest Q-value estimated by DQN critc"
   ]
  },
  {
   "cell_type": "markdown",
   "id": "a1107160",
   "metadata": {},
   "source": [
    "# Define Schedules for Training:\n",
    "\n",
    "Our DQN actor will not learn for the first 50k iterations. (Told to actor by passing 0 learning rate for the first 50k iterations)\n",
    "\n",
    "And it will also conduct maximum exploration during that phase to collect initial random training data.\n",
    "\n",
    "*!Note: we will construct our exploration schedule to be 30m timestamps long, however, for the time-saving purpose, we will run demonstration training only for 3m steps. In papers, DQN and its augmentations are trained for 200m steps, which may require several days of learning.*"
   ]
  },
  {
   "cell_type": "code",
   "execution_count": 3,
   "id": "c52a375f",
   "metadata": {},
   "outputs": [
    {
     "data": {
      "image/png": "[encoded data removed]",
      "text/plain": [
       "<Figure size 432x288 with 1 Axes>"
      ]
     },
     "metadata": {
      "needs_background": "light"
     },
     "output_type": "display_data"
    }
   ],
   "source": [
    "lr_schedule = PiecewiseSchedule({0: 50000}, 1e-4)\n",
    "lr_schedule.plot(int(1e6))"
   ]
  },
  {
   "cell_type": "markdown",
   "id": "1301e0fa",
   "metadata": {},
   "source": [
    "# Create training and eval environments"
   ]
  },
  {
   "cell_type": "markdown",
   "id": "e50bf275",
   "metadata": {},
   "source": [
    "On practice, when training DQN on Atari 2600 domain, algorithm is not fed with raw environment observations, instead several wrappers are applied:\n",
    "\n",
    "1) EpisodicLifeEnv - make end-of-life == end-of-episode, but only reset on true game over. Done by DeepMind for the DQN and co. since it helps value estimation\n",
    "\n",
    "2) NoopResetEnv - Sample initial states by taking random number of no-ops on reset. No-op is assumed to be action 0.\n",
    "\n",
    "3) MaxAndSkipEnv - Return only every skip-th frame and do max-pooling over most recent two observations\n",
    "\n",
    "4) FireResetEnv - Take action on reset for environments that are fixed until firing.\n",
    "\n",
    "5) ProcessFrame84 - Crop valid region of an observation, convert to grayscale, resize to 84x84. Cast to uint8 dtype for lower memory usage.\n",
    "\n",
    "6) ClipRewardEnv - Bin reward to {+1, 0, -1} by its sign."
   ]
  },
  {
   "cell_type": "code",
   "execution_count": 4,
   "id": "ff483d93",
   "metadata": {},
   "outputs": [],
   "source": [
    "def makeenv(env_name, hcrop, hstretch, seed):\n",
    "    \n",
    "    env = gym.make(env_name)\n",
    "    ob_unwrap = env.reset()\n",
    "    \n",
    "    env = gym.wrappers.Monitor(\n",
    "        env,\n",
    "        'monitor_train_logs',\n",
    "        force=True,\n",
    "        video_callable=None,\n",
    "    )\n",
    "    \n",
    "    env = wrap_deepmind(\n",
    "        env, \n",
    "        skip=4,\n",
    "        hcrop=hcrop, \n",
    "        hstretch=hstretch\n",
    "    )\n",
    "    \n",
    "    env.seed(seed)\n",
    "    \n",
    "    ob = env.reset()\n",
    "    \n",
    "    return env, ob_unwrap, ob "
   ]
  },
  {
   "cell_type": "code",
   "execution_count": 5,
   "id": "80977322",
   "metadata": {},
   "outputs": [
    {
     "name": "stdout",
     "output_type": "stream",
     "text": [
      "(210, 160, 3) (84, 84, 1)\n"
     ]
    }
   ],
   "source": [
    "env_name = 'Asteroids-v0'\n",
    "\n",
    "# Capture game region by adjusting these params:\n",
    "hcrop=18 # skip n top lines of pixels\n",
    "hstretch=110 # compression of vertical dimention from 210 -> hstretch (should be > than hcrop+84)\n",
    "\n",
    "env, ob_unwrap, ob = makeenv(\n",
    "    env_name=env_name, hcrop=hcrop, \n",
    "    hstretch=hstretch, seed=12\n",
    ")\n",
    "\n",
    "eval_env, _, _ = makeenv(\n",
    "    env_name=env_name, hcrop=hcrop, \n",
    "    hstretch=hstretch, seed=27\n",
    ")\n",
    "\n",
    "\n",
    "print(ob_unwrap.shape, ob.shape)"
   ]
  },
  {
   "cell_type": "code",
   "execution_count": 6,
   "id": "507de0bd",
   "metadata": {},
   "outputs": [
    {
     "data": {
      "image/png": "[encoded data removed]",
      "text/plain": [
       "<Figure size 432x288 with 2 Axes>"
      ]
     },
     "metadata": {
      "needs_background": "light"
     },
     "output_type": "display_data"
    }
   ],
   "source": [
    "# Visualize raw and wrapped environment:\n",
    "plt.subplot(1, 2, 1)\n",
    "plt.imshow(ob_unwrap)\n",
    "plt.title('Raw env')\n",
    "plt.subplot(1, 2, 2)\n",
    "plt.imshow(ob.squeeze(), cmap='gray')\n",
    "plt.title('Wrapped env')\n",
    "plt.show()"
   ]
  },
  {
   "cell_type": "code",
   "execution_count": 7,
   "id": "378d0f15",
   "metadata": {},
   "outputs": [
    {
     "data": {
      "text/plain": [
       "Discrete(14)"
      ]
     },
     "execution_count": 7,
     "metadata": {},
     "output_type": "execute_result"
    }
   ],
   "source": [
    "env.action_space"
   ]
  },
  {
   "cell_type": "code",
   "execution_count": 8,
   "id": "6dc2b8a1",
   "metadata": {},
   "outputs": [],
   "source": [
    "acs_dim = 14"
   ]
  },
  {
   "cell_type": "markdown",
   "id": "41fb8949",
   "metadata": {},
   "source": [
    "#  Set Up Exploration\n",
    "\n",
    "As DQN critic network's weights and biases are perturbed by a parametric function of the noise, which is learned during gradient descent, there is no  need for an additional $\\epsilon$-greedy exploration. Exploration magnitude will be learned by the model itself."
   ]
  },
  {
   "cell_type": "markdown",
   "id": "8519087e",
   "metadata": {},
   "source": [
    "# Define ArgmaxQValue actor"
   ]
  },
  {
   "cell_type": "code",
   "execution_count": 9,
   "id": "d2318887",
   "metadata": {},
   "outputs": [],
   "source": [
    "actor = ArgmaxQValue(\n",
    "        exploration=None\n",
    ")"
   ]
  },
  {
   "cell_type": "markdown",
   "id": "a3eb21f0",
   "metadata": {},
   "source": [
    "# Define DQN critic:\n",
    "\n",
    "!Note: Atari 2600 environments often have some blinking visual elements, that is why observation may miss some details due to the blinking period, therefore introducing *partial observability*. To counteract this, critic network receives a stack of a current frame and 3 most recent lags. By doing so, critic, in theory, should be able to reconstruct actual state from frames history.\n",
    "\n",
    "ReLAx offers a simple interface to use lagged observations by specifying the following args:\n",
    "\n",
    "`obs_nlags`: int - specify the number of lags in addition to current observation\n",
    "\n",
    "`obs_expand_axis`: int or None - if not None, creates an extra dimension in observation array to concat along, if needed\n",
    "\n",
    "`obs_concat_axis`: int - axis to concatenate lags along\n",
    "\n",
    "`obs_padding`: str - ('zeros', 'first') value to pad starting observations with.\n",
    "\n",
    "Observation shape of the observations returned by DeepMind environment wrapper is (84, 84, 1) so, by specifying:\n",
    "\n",
    "`obs_nlags`=3\n",
    "\n",
    "`obs_expand_axis`=None\n",
    "\n",
    "`obs_concat_axis`=-1\n",
    "\n",
    "`obs_padding=`'zeros'\n",
    "\n",
    "We end up with a stacked lagged observation with a shape (84, 84, 4)"
   ]
  },
  {
   "cell_type": "code",
   "execution_count": 10,
   "id": "5f9ed791",
   "metadata": {},
   "outputs": [],
   "source": [
    "critic = DQN(\n",
    "    critic_net=AtariNoisyQCNN( # Noisy DQN\n",
    "        in_channels=4, # 1 current frame + 3 recent lags\n",
    "        acs_dim=acs_dim\n",
    "    ),\n",
    "    device=torch.device('cuda'),\n",
    "    learning_rate=lr_schedule,\n",
    "    batch_size=32,\n",
    "    gamma=0.99,\n",
    "    target_updates_freq=10000,\n",
    "    n_steps_per_update=1,\n",
    "    update_freq=4,\n",
    "    double_q=False,\n",
    "    obs_nlags=3,\n",
    "    obs_expand_axis=None,\n",
    "    obs_concat_axis=-1,\n",
    "    obs_padding='zeros'\n",
    ")"
   ]
  },
  {
   "cell_type": "markdown",
   "id": "9896a2ef",
   "metadata": {},
   "source": [
    "# Provide actor with critic:"
   ]
  },
  {
   "cell_type": "code",
   "execution_count": 12,
   "id": "28fabc7c",
   "metadata": {},
   "outputs": [],
   "source": [
    "actor.set_critic(critic)"
   ]
  },
  {
   "cell_type": "markdown",
   "id": "0073e359",
   "metadata": {},
   "source": [
    "# Wrap envs into Sampler:\n",
    "\n",
    "!Note: As we are using lags as an input to critic (and actor is using critic to select actions), our sampler also should accumulate lags to ensure correct input on a sampling phase. To make Sampler use lags, you should provide it with the same set of args:\n",
    "\n",
    "`obs_nlags`: int - specify the number of lags in addition to current observation\n",
    "\n",
    "`obs_expand_axis`: int or None - if not None, creates an extra dimension in observation array to concat along, if needed\n",
    "\n",
    "`obs_concat_axis`: int - axis to concatenate lags along\n",
    "\n",
    "`obs_padding`: str - ('zeros', 'first') value to pad starting observations with."
   ]
  },
  {
   "cell_type": "code",
   "execution_count": 13,
   "id": "4ca4c36f",
   "metadata": {},
   "outputs": [],
   "source": [
    "sampler = Sampler(env=env,\n",
    "                  obs_nlags=3,\n",
    "                  obs_expand_axis=None,\n",
    "                  obs_concat_axis=-1,\n",
    "                  obs_padding='zeros')\n",
    "\n",
    "eval_sampler = Sampler(env=eval_env,\n",
    "                       obs_nlags=3,\n",
    "                       obs_expand_axis=None,\n",
    "                       obs_concat_axis=-1,\n",
    "                       obs_padding='zeros')"
   ]
  },
  {
   "cell_type": "markdown",
   "id": "d1628bb9",
   "metadata": {},
   "source": [
    "# Create replay buffer\n",
    "\n",
    "!Note: ReplayBuffer is designed not to store lags explicitly (and not to store next states also) that is why the number of lags will not affect the amount of RAM used. However, as it still has to store 1m experience history and each observation is an array of shape (84, 84, 1) with a dtype uint8, the total amount of RAM usage by ReplayBuffer $ \\approx $ 10^6 \\* 84 \\* 84 bytes ~= 7 gigabytes. In total, DQN training requires $ \\approx $ 9-10 gigabytes of RAM. If your machine does not have enough RAM - consider decreasing buffer size."
   ]
  },
  {
   "cell_type": "code",
   "execution_count": 14,
   "id": "38793b37",
   "metadata": {},
   "outputs": [],
   "source": [
    "replay_buffer = ReplayBuffer(int(1e+6))"
   ]
  },
  {
   "cell_type": "markdown",
   "id": "5a363bcb",
   "metadata": {},
   "source": [
    "# Visualize untrained actor"
   ]
  },
  {
   "cell_type": "code",
   "execution_count": 15,
   "id": "1ba08d72",
   "metadata": {},
   "outputs": [
    {
     "name": "stdout",
     "output_type": "stream",
     "text": [
      "Simulation done, total reward: 1.0\n",
      "Loading video...\n"
     ]
    },
    {
     "data": {
      "text/html": [
       "<video alt=\"test\" autoplay \n",
       "                    loop controls style=\"height: 400px;\">\n",
       "                    <source src=\"data:video/mp4;base64,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\" type=\"video/mp4\" />\n",
       "                 </video>"
      ],
      "text/plain": [
       "<IPython.core.display.HTML object>"
      ]
     },
     "metadata": {},
     "output_type": "display_data"
    }
   ],
   "source": [
    "visualize_actor(env=eval_env, actor=actor, nsteps=1000, train_sampling=False)"
   ]
  },
  {
   "cell_type": "markdown",
   "id": "5521a071",
   "metadata": {},
   "source": [
    "# Run Training and Validation loop:\n",
    "\n",
    "!Note: we have constructed our exploration schedule to be 30m timestamps long, however, for the time-saving purpose, we will run demonstration training only for 3m steps. In papers, DQN and its augmentations are trained for 200m steps, which may require several days of learning."
   ]
  },
  {
   "cell_type": "code",
   "execution_count": null,
   "id": "cf675b2b",
   "metadata": {},
   "outputs": [
    {
     "name": "stderr",
     "output_type": "stream",
     "text": [
      "  5%|▌         | 156716/3000000 [17:14<6:20:35, 124.51it/s]"
     ]
    }
   ],
   "source": [
    "log_every = 50000\n",
    "n_steps = 3000000\n",
    "logdir = '/home/nikita/Desktop/RelaxExamples/Noisy_DQN/tensorboard_logs'\n",
    "run_name = f'noisy_dqn_{env_name}'\n",
    "logger = SummaryWriter(log_dir=f'{logdir}/{run_name}')\n",
    "all_logs = []\n",
    "\n",
    "for step in tqdm(range(n_steps)): # \n",
    "    \n",
    "    # sample training batch\n",
    "    unit_pathlist = sampler.sample(actor=actor,\n",
    "                                   n_transitions=1,\n",
    "                                   max_path_length=None, \n",
    "                                   reset_when_not_done=False,\n",
    "                                   train_sampling=True)\n",
    "    \n",
    "    # add transitions to replay buffer\n",
    "    replay_buffer.add_paths(unit_pathlist)\n",
    "    \n",
    "    # update critic\n",
    "    critic_logs = critic.update(replay_buffer)\n",
    "        \n",
    "    # update actor\n",
    "    actor_logs = actor.update(replay_buffer)\n",
    "    \n",
    "    if step % log_every == 0 and step > 0:\n",
    "        \n",
    "        # add unwrapped reward logs\n",
    "        mean_unwr_train = np.mean(get_wrapper_by_name(env, 'Monitor').get_episode_rewards()[-20:])\n",
    "        unwr_rews = {'average_train_unwr_rews': mean_unwr_train}\n",
    "        \n",
    "        # create logs of buffer\n",
    "        buffer_logs = replay_buffer.create_logs(prefix='buffer')\n",
    "\n",
    "        logs = {**critic_logs,\n",
    "                **actor_logs,\n",
    "                **buffer_logs,\n",
    "                **unwr_rews}\n",
    "        all_logs.append(logs)\n",
    "        \n",
    "        for key, value in logs.items():\n",
    "            logger.add_scalar(key, value, step)\n",
    "    \n",
    "logger.flush()"
   ]
  },
  {
   "cell_type": "code",
   "execution_count": 16,
   "id": "d3b0dee7",
   "metadata": {},
   "outputs": [
    {
     "data": {
      "text/html": [
       "\n",
       "      <iframe id=\"tensorboard-frame-8bc2bf8683a510b3\" width=\"100%\" height=\"800\" frameborder=\"0\">\n",
       "      </iframe>\n",
       "      <script>\n",
       "        (function() {\n",
       "          const frame = document.getElementById(\"tensorboard-frame-8bc2bf8683a510b3\");\n",
       "          const url = new URL(\"/\", window.location);\n",
       "          const port = 6006;\n",
       "          if (port) {\n",
       "            url.port = port;\n",
       "          }\n",
       "          frame.src = url;\n",
       "        })();\n",
       "      </script>\n",
       "    "
      ],
      "text/plain": [
       "<IPython.core.display.HTML object>"
      ]
     },
     "metadata": {},
     "output_type": "display_data"
    }
   ],
   "source": [
    "%load_ext tensorboard\n",
    "%tensorboard --logdir /home/nikita/Desktop/RelaxExamples/Noisy_DQN/tensorboard_logs"
   ]
  },
  {
   "cell_type": "markdown",
   "id": "f9c5ed3c",
   "metadata": {},
   "source": [
    "# Plot learning curve"
   ]
  },
  {
   "cell_type": "code",
   "execution_count": null,
   "id": "d36c25e4",
   "metadata": {},
   "outputs": [],
   "source": [
    "eval_score = [l['average_train_unwr_rews'] for l in all_logs]\n",
    "plt.plot(eval_score)\n",
    "plt.title(f'Learning curve for {env_name}')\n",
    "plt.xlabel('Training step')\n",
    "plt.ylabel('Avg. return')\n",
    "plt.show()"
   ]
  },
  {
   "cell_type": "markdown",
   "id": "d56bd690",
   "metadata": {},
   "source": [
    "# Plot estimated vs actual Q-values"
   ]
  },
  {
   "cell_type": "code",
   "execution_count": null,
   "id": "0117e017",
   "metadata": {},
   "outputs": [],
   "source": [
    "batch = eval_sampler.sample_n_episodes(actor=actor,\n",
    "                                       n_episodes=10,\n",
    "                                       max_path_length=None, \n",
    "                                       train_sampling=False)\n",
    "\n",
    "print(*batch.create_logs().items(), sep='\\n')\n",
    "\n",
    "batch.add_disc_cumsum(cumsum_field='q_vals', field='rews', gamma=0.99)\n",
    "data_q_values = batch.unpack(['q_vals'])\n",
    "\n",
    "model_q_values = critic.estimate_qvalue(batch)\n",
    "\n",
    "plt.hexbin(data_q_values, model_q_values, bins=50, cmap=plt.cm.Blues)\n",
    "plt.title('Data Q-values vs Critic Q-values')\n",
    "plt.xlabel('Data Q-values')\n",
    "plt.ylabel('Critic Q-values')\n",
    "plt.show()"
   ]
  },
  {
   "cell_type": "markdown",
   "id": "1a4ea1b7",
   "metadata": {},
   "source": [
    "# Visualize trained actor"
   ]
  },
  {
   "cell_type": "code",
   "execution_count": null,
   "id": "3cccc38c",
   "metadata": {},
   "outputs": [],
   "source": [
    "visualize_actor(env=eval_env, actor=actor, nsteps=1000, train_sampling=False)"
   ]
  },
  {
   "cell_type": "markdown",
   "id": "e32d683c",
   "metadata": {},
   "source": [
    "# Save Models"
   ]
  },
  {
   "cell_type": "code",
   "execution_count": null,
   "id": "67872fd6",
   "metadata": {
    "scrolled": true
   },
   "outputs": [],
   "source": [
    "actor.save_checkpoint('trained_models', 'argmax_q_value_actor')\n",
    "critic.save_checkpoint('trained_models', 'noisy_dqn_critic')"
   ]
  },
  {
   "cell_type": "markdown",
   "id": "31e0a904",
   "metadata": {},
   "source": [
    "# Load Models"
   ]
  },
  {
   "cell_type": "code",
   "execution_count": null,
   "id": "12804137",
   "metadata": {},
   "outputs": [],
   "source": [
    "actor.load_checkpoint('trained_models', 'argmax_q_value_actor')\n",
    "critic.load_checkpoint('trained_models', 'noisy_dqn_critic')"
   ]
  }
 ],
 "metadata": {
  "kernelspec": {
   "display_name": "Python Relax",
   "language": "python",
   "name": "relax"
  },
  "language_info": {
   "codemirror_mode": {
    "name": "ipython",
    "version": 3
   },
   "file_extension": ".py",
   "mimetype": "text/x-python",
   "name": "python",
   "nbconvert_exporter": "python",
   "pygments_lexer": "ipython3",
   "version": "3.6.13"
  }
 },
 "nbformat": 4,
 "nbformat_minor": 5
}
